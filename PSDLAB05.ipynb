{
  "nbformat": 4,
  "nbformat_minor": 0,
  "metadata": {
    "colab": {
      "provenance": [],
      "authorship_tag": "ABX9TyOe98LzXoeVuhZR1jiu3Cue",
      "include_colab_link": true
    },
    "kernelspec": {
      "name": "python3",
      "display_name": "Python 3"
    },
    "language_info": {
      "name": "python"
    }
  },
  "cells": [
    {
      "cell_type": "markdown",
      "metadata": {
        "id": "view-in-github",
        "colab_type": "text"
      },
      "source": [
        "<a href=\"https://colab.research.google.com/github/2303A51618/2303A51618_25/blob/main/PSDLAB05.ipynb\" target=\"_parent\"><img src=\"https://colab.research.google.com/assets/colab-badge.svg\" alt=\"Open In Colab\"/></a>"
      ]
    },
    {
      "cell_type": "code",
      "execution_count": 2,
      "metadata": {
        "colab": {
          "base_uri": "https://localhost:8080/"
        },
        "id": "SMJSWpLPkVvg",
        "outputId": "6cee5bbe-f24b-4dbb-d93c-54b1d9d49333"
      },
      "outputs": [
        {
          "output_type": "stream",
          "name": "stdout",
          "text": [
            "🔗 Merged Dataset:\n",
            "   transaction_id  customer_id  amount    name     city\n",
            "0               1          101     200     Ram   Mumbai\n",
            "1               2          102     150     Jai    Delhi\n",
            "2               3          103     300  charan   Mumbai\n",
            "3               4          101     450     Ram   Mumbai\n",
            "4               5          104     500     Dev  Chennai\n",
            "5               6          102     100     Jai    Delhi\n",
            "6               7          105     250     kam    Delhi\n",
            "\n",
            "💰 Total Spend per Customer:\n",
            "   customer_id    name  total_spent\n",
            "0          101     Ram          650\n",
            "1          102     Jai          250\n",
            "2          103  charan          300\n",
            "3          104     Dev          500\n",
            "4          105     kam          250\n",
            "\n",
            "🌆 City-wise Spending:\n",
            "      city  total_spent\n",
            "0  Chennai          500\n",
            "1    Delhi          500\n",
            "2   Mumbai          950\n",
            "\n",
            "🏆 Top Spender:\n",
            "   customer_id name  total_spent\n",
            "0          101  Ram          650\n"
          ]
        }
      ],
      "source": [
        "import pandas as pd\n",
        "\n",
        "# ---------------------------\n",
        "# Step 1: Create Customers Dataset\n",
        "# ---------------------------\n",
        "customers = pd.DataFrame({\n",
        "    'customer_id': [101, 102, 103, 104, 105],\n",
        "    'name': ['Ram', 'Jai', 'charan', 'Dev', 'kam'],\n",
        "    'city': ['Mumbai', 'Delhi', 'Mumbai', 'Chennai', 'Delhi']\n",
        "})\n",
        "\n",
        "# ---------------------------\n",
        "# Step 2: Create Transactions Dataset\n",
        "# ---------------------------\n",
        "transactions = pd.DataFrame({\n",
        "    'transaction_id': [1, 2, 3, 4, 5, 6, 7],\n",
        "    'customer_id': [101, 102, 103, 101, 104, 102, 105],\n",
        "    'amount': [200, 150, 300, 450, 500, 100, 250]\n",
        "})\n",
        "\n",
        "# ---------------------------\n",
        "# Step 3: Merge on customer_id\n",
        "# ---------------------------\n",
        "merged_df = pd.merge(transactions, customers, on='customer_id')\n",
        "\n",
        "print(\"🔗 Merged Dataset:\")\n",
        "print(merged_df)\n",
        "\n",
        "# ---------------------------\n",
        "# Step 4: Total Spend per Customer\n",
        "# ---------------------------\n",
        "total_spend = merged_df.groupby(['customer_id', 'name'])['amount'].sum().reset_index(name='total_spent')\n",
        "print(\"\\n💰 Total Spend per Customer:\")\n",
        "print(total_spend)\n",
        "\n",
        "# ---------------------------\n",
        "# Step 5: City-wise Spending\n",
        "# ---------------------------\n",
        "city_spend = pd.merge(total_spend, customers[['customer_id', 'city']], on='customer_id')\n",
        "city_summary = city_spend.groupby('city')['total_spent'].sum().reset_index()\n",
        "print(\"\\n🌆 City-wise Spending:\")\n",
        "print(city_summary)\n",
        "\n",
        "# ---------------------------\n",
        "# Step 6: Top Spender\n",
        "# ---------------------------\n",
        "top_spender = total_spend.sort_values(by='total_spent', ascending=False).head(1)\n",
        "print(\"\\n🏆 Top Spender:\")\n",
        "print(top_spender)\n"
      ]
    },
    {
      "cell_type": "code",
      "source": [
        "import pandas as pd\n",
        "\n",
        "# ---------------------------\n",
        "# Step 1: Create Patients Dataset\n",
        "# ---------------------------\n",
        "patients = pd.DataFrame({\n",
        "    'patient_id': [201, 202, 203, 204, 205],\n",
        "    'name': ['Arjun', 'Bhavya', 'Chirag', 'Deepa', 'Eshan'],\n",
        "    'age': [32, 45, 28, 36, 52],\n",
        "    'gender': ['M', 'F', 'M', 'F', 'M']\n",
        "})\n",
        "\n",
        "# ---------------------------\n",
        "# Step 2: Create Appointments Dataset\n",
        "# ---------------------------\n",
        "appointments = pd.DataFrame({\n",
        "    'appointment_id': [1, 2, 3, 4, 5, 6, 7, 8],\n",
        "    'patient_id': [201, 202, 201, 204, 203, 205, 202, 202],\n",
        "    'doctor': ['Dr. Rao', 'Dr. Singh', 'Dr. Rao', 'Dr. Mehta', 'Dr. Singh', 'Dr. Mehta', 'Dr. Rao', 'Dr. Rao'],\n",
        "    'date': ['2025-09-01', '2025-09-01', '2025-09-05', '2025-09-02', '2025-09-03', '2025-09-04', '2025-09-05', '2025-09-06']\n",
        "})\n",
        "\n",
        "# ---------------------------\n",
        "# Step 3: Merge Datasets\n",
        "# ---------------------------\n",
        "merged_df = pd.merge(appointments, patients, on='patient_id')\n",
        "\n",
        "print(\"🩺 Merged Dataset:\")\n",
        "print(merged_df)\n",
        "\n",
        "# ---------------------------\n",
        "# Step 4: Count Appointments per Patient\n",
        "# ---------------------------\n",
        "appointments_per_patient = merged_df.groupby(['patient_id', 'name'])['appointment_id'].count().reset_index(name='visit_count')\n",
        "print(\"\\n📋 Appointments per Patient:\")\n",
        "print(appointments_per_patient)\n",
        "\n",
        "# ---------------------------\n",
        "# Step 5: Group by Doctor (Workload)\n",
        "# ---------------------------\n",
        "doctor_workload = merged_df.groupby('doctor')['appointment_id'].count().reset_index(name='appointments_handled')\n",
        "print(\"\\n👨‍⚕️ Doctor Workload:\")\n",
        "print(doctor_workload)\n",
        "\n",
        "# ---------------------------\n",
        "# Step 6: Find Patient with Max Visits\n",
        "# ---------------------------\n",
        "top_patient = appointments_per_patient.sort_values(by='visit_count', ascending=False).head(1)\n",
        "print(\"\\n🏆 Most Frequent Patient:\")\n",
        "print(top_patient)\n"
      ],
      "metadata": {
        "colab": {
          "base_uri": "https://localhost:8080/"
        },
        "id": "ZiL16xMmloq6",
        "outputId": "64dfa22c-01a4-473d-90de-38391c62a223"
      },
      "execution_count": 3,
      "outputs": [
        {
          "output_type": "stream",
          "name": "stdout",
          "text": [
            "🩺 Merged Dataset:\n",
            "   appointment_id  patient_id     doctor        date    name  age gender\n",
            "0               1         201    Dr. Rao  2025-09-01   Arjun   32      M\n",
            "1               2         202  Dr. Singh  2025-09-01  Bhavya   45      F\n",
            "2               3         201    Dr. Rao  2025-09-05   Arjun   32      M\n",
            "3               4         204  Dr. Mehta  2025-09-02   Deepa   36      F\n",
            "4               5         203  Dr. Singh  2025-09-03  Chirag   28      M\n",
            "5               6         205  Dr. Mehta  2025-09-04   Eshan   52      M\n",
            "6               7         202    Dr. Rao  2025-09-05  Bhavya   45      F\n",
            "7               8         202    Dr. Rao  2025-09-06  Bhavya   45      F\n",
            "\n",
            "📋 Appointments per Patient:\n",
            "   patient_id    name  visit_count\n",
            "0         201   Arjun            2\n",
            "1         202  Bhavya            3\n",
            "2         203  Chirag            1\n",
            "3         204   Deepa            1\n",
            "4         205   Eshan            1\n",
            "\n",
            "👨‍⚕️ Doctor Workload:\n",
            "      doctor  appointments_handled\n",
            "0  Dr. Mehta                     2\n",
            "1    Dr. Rao                     4\n",
            "2  Dr. Singh                     2\n",
            "\n",
            "🏆 Most Frequent Patient:\n",
            "   patient_id    name  visit_count\n",
            "1         202  Bhavya            3\n"
          ]
        }
      ]
    },
    {
      "cell_type": "code",
      "source": [],
      "metadata": {
        "id": "XxMKSMpRlpI3"
      },
      "execution_count": null,
      "outputs": []
    }
  ]
}