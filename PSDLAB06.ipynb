{
  "nbformat": 4,
  "nbformat_minor": 0,
  "metadata": {
    "colab": {
      "provenance": [],
      "authorship_tag": "ABX9TyPYuvNtTFer7rKKvwUCUWC8",
      "include_colab_link": true
    },
    "kernelspec": {
      "name": "python3",
      "display_name": "Python 3"
    },
    "language_info": {
      "name": "python"
    }
  },
  "cells": [
    {
      "cell_type": "markdown",
      "metadata": {
        "id": "view-in-github",
        "colab_type": "text"
      },
      "source": [
        "<a href=\"https://colab.research.google.com/github/2303A51618/2303A51618_25/blob/main/PSDBLAB06.ipynb\" target=\"_parent\"><img src=\"https://colab.research.google.com/assets/colab-badge.svg\" alt=\"Open In Colab\"/></a>"
      ]
    },
    {
      "cell_type": "code",
      "execution_count": 1,
      "metadata": {
        "colab": {
          "base_uri": "https://localhost:8080/"
        },
        "id": "Rb2VZUNtDH-q",
        "outputId": "ae72bd5e-5668-446e-b407-bd97ebe5fd94"
      },
      "outputs": [
        {
          "output_type": "stream",
          "name": "stdout",
          "text": [
            "---- Dataset Before Cleaning ----\n",
            "   Patient_ID  Age\n",
            "0           1   25\n",
            "1           2   36\n",
            "2           3   -5\n",
            "3           4  150\n",
            "4           5   42\n",
            "5           6   67\n",
            "6           7   89\n",
            "7           8  130\n",
            "8           9   54\n",
            "9          10    0\n",
            "\n",
            "Invalid Ages (Outliers):\n",
            "   Patient_ID  Age\n",
            "2           3   -5\n",
            "3           4  150\n",
            "7           8  130\n",
            "\n",
            "---- Dataset After Cleaning ----\n",
            "   Patient_ID  Age\n",
            "0           1   25\n",
            "1           2   36\n",
            "4           5   42\n",
            "5           6   67\n",
            "6           7   89\n",
            "8           9   54\n",
            "9          10    0\n"
          ]
        }
      ],
      "source": [
        "import pandas as pd\n",
        "\n",
        "# Sample hospital dataset (with some invalid ages)\n",
        "data = {\n",
        "    \"Patient_ID\": range(1, 11),\n",
        "    \"Age\": [25, 36, -5, 150, 42, 67, 89, 130, 54, 0]\n",
        "}\n",
        "df = pd.DataFrame(data)\n",
        "\n",
        "print(\"---- Dataset Before Cleaning ----\")\n",
        "print(df)\n",
        "\n",
        "# Detect outliers (Age < 0 or Age > 120)\n",
        "outliers = df[(df[\"Age\"] < 0) | (df[\"Age\"] > 120)]\n",
        "print(\"\\nInvalid Ages (Outliers):\")\n",
        "print(outliers)\n",
        "\n",
        "# Remove outliers\n",
        "cleaned_df = df[(df[\"Age\"] >= 0) & (df[\"Age\"] <= 120)]\n",
        "\n",
        "print(\"\\n---- Dataset After Cleaning ----\")\n",
        "print(cleaned_df)\n"
      ]
    },
    {
      "cell_type": "code",
      "source": [
        "import pandas as pd\n",
        "from sklearn.preprocessing import MinMaxScaler, StandardScaler\n",
        "\n",
        "# Sample banking dataset\n",
        "data = {\n",
        "    \"Customer_ID\": range(1, 8),\n",
        "    \"Income\": [25000, 40000, 55000, 30000, 80000, 120000, 60000]\n",
        "}\n",
        "df = pd.DataFrame(data)\n",
        "\n",
        "print(\"---- Original Dataset ----\")\n",
        "print(df)\n",
        "\n",
        "# Min-Max Normalization\n",
        "scaler_minmax = MinMaxScaler()\n",
        "df[\"Income_MinMax\"] = scaler_minmax.fit_transform(df[[\"Income\"]])\n",
        "\n",
        "# Standardization (Z-score)\n",
        "scaler_standard = StandardScaler()\n",
        "df[\"Income_Standardized\"] = scaler_standard.fit_transform(df[[\"Income\"]])\n",
        "\n",
        "print(\"\\n---- Dataset After Scaling ----\")\n",
        "print(df)\n"
      ],
      "metadata": {
        "colab": {
          "base_uri": "https://localhost:8080/"
        },
        "id": "JcBV6lJODNHQ",
        "outputId": "18fdb57f-99ae-4991-e614-643cda668261"
      },
      "execution_count": 2,
      "outputs": [
        {
          "output_type": "stream",
          "name": "stdout",
          "text": [
            "---- Original Dataset ----\n",
            "   Customer_ID  Income\n",
            "0            1   25000\n",
            "1            2   40000\n",
            "2            3   55000\n",
            "3            4   30000\n",
            "4            5   80000\n",
            "5            6  120000\n",
            "6            7   60000\n",
            "\n",
            "---- Dataset After Scaling ----\n",
            "   Customer_ID  Income  Income_MinMax  Income_Standardized\n",
            "0            1   25000       0.000000            -1.098683\n",
            "1            2   40000       0.157895            -0.607782\n",
            "2            3   55000       0.315789            -0.116881\n",
            "3            4   30000       0.052632            -0.935049\n",
            "4            5   80000       0.578947             0.701287\n",
            "5            6  120000       1.000000             2.010356\n",
            "6            7   60000       0.368421             0.046752\n"
          ]
        }
      ]
    }
  ]
}
